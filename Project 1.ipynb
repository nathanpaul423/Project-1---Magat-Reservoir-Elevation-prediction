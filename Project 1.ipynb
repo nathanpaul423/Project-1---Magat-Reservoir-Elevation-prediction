{
 "cells": [
  {
   "cell_type": "code",
   "execution_count": 46,
   "metadata": {},
   "outputs": [],
   "source": [
    "import pandas as pd\n",
    "import os\n",
    "import numpy as np\n",
    "import seaborn as sns"
   ]
  },
  {
   "cell_type": "code",
   "execution_count": 47,
   "metadata": {},
   "outputs": [],
   "source": [
    "cwd = os.getcwd()\n"
   ]
  },
  {
   "cell_type": "code",
   "execution_count": 48,
   "metadata": {},
   "outputs": [
    {
     "data": {
      "text/plain": [
       "['APRIL 2022.xlsx',\n",
       " 'AUGUST 2022.xlsx',\n",
       " 'DECEMBER 2021.xlsx',\n",
       " 'FEBRUARY 2022.xlsx',\n",
       " 'JANUARY 2022.xlsx',\n",
       " 'JULY 2022.xlsx',\n",
       " 'JUNE 2022.xlsx',\n",
       " 'MARCH 2022.xlsx',\n",
       " 'MAY 2022.xlsx',\n",
       " 'NOVEMBER 2021.xlsx',\n",
       " 'OCTOBER 2021.xlsx',\n",
       " 'SEPTEMBER 2021.xlsm',\n",
       " 'SEPTEMBER 2021.xlsx',\n",
       " 'SEPTEMBER 2022.xlsx',\n",
       " 'Sheet1.doccls',\n",
       " 'UserForm1.frm',\n",
       " 'UserForm1.frx',\n",
       " 'VBA - Script.xlsm']"
      ]
     },
     "execution_count": 48,
     "metadata": {},
     "output_type": "execute_result"
    }
   ],
   "source": [
    "os.listdir(cwd)"
   ]
  },
  {
   "cell_type": "code",
   "execution_count": 49,
   "metadata": {},
   "outputs": [
    {
     "ename": "FileNotFoundError",
     "evalue": "[WinError 2] The system cannot find the file specified: 'Data - Elevation' -> 'data_elevation'",
     "output_type": "error",
     "traceback": [
      "\u001b[1;31m---------------------------------------------------------------------------\u001b[0m",
      "\u001b[1;31mFileNotFoundError\u001b[0m                         Traceback (most recent call last)",
      "\u001b[1;32mc:\\Users\\Tokwa\\Documents\\GitHub\\Project-1---Magat-Reservoir-Elevation-prediction\\Project 1.ipynb Cell 4\u001b[0m in \u001b[0;36m<cell line: 1>\u001b[1;34m()\u001b[0m\n\u001b[1;32m----> <a href='vscode-notebook-cell:/c%3A/Users/Tokwa/Documents/GitHub/Project-1---Magat-Reservoir-Elevation-prediction/Project%201.ipynb#X11sZmlsZQ%3D%3D?line=0'>1</a>\u001b[0m os\u001b[39m.\u001b[39;49mrename(\u001b[39m\"\u001b[39;49m\u001b[39mData - Elevation\u001b[39;49m\u001b[39m\"\u001b[39;49m,\u001b[39m\"\u001b[39;49m\u001b[39mdata_elevation\u001b[39;49m\u001b[39m\"\u001b[39;49m)\n",
      "\u001b[1;31mFileNotFoundError\u001b[0m: [WinError 2] The system cannot find the file specified: 'Data - Elevation' -> 'data_elevation'"
     ]
    }
   ],
   "source": [
    "os.rename(\"Data - Elevation\",\"data_elevation\")"
   ]
  },
  {
   "cell_type": "code",
   "execution_count": 50,
   "metadata": {},
   "outputs": [
    {
     "data": {
      "text/plain": [
       "['APRIL 2022.xlsx',\n",
       " 'AUGUST 2022.xlsx',\n",
       " 'DECEMBER 2021.xlsx',\n",
       " 'FEBRUARY 2022.xlsx',\n",
       " 'JANUARY 2022.xlsx',\n",
       " 'JULY 2022.xlsx',\n",
       " 'JUNE 2022.xlsx',\n",
       " 'MARCH 2022.xlsx',\n",
       " 'MAY 2022.xlsx',\n",
       " 'NOVEMBER 2021.xlsx',\n",
       " 'OCTOBER 2021.xlsx',\n",
       " 'SEPTEMBER 2021.xlsm',\n",
       " 'SEPTEMBER 2021.xlsx',\n",
       " 'SEPTEMBER 2022.xlsx',\n",
       " 'Sheet1.doccls',\n",
       " 'UserForm1.frm',\n",
       " 'UserForm1.frx',\n",
       " 'VBA - Script.xlsm']"
      ]
     },
     "execution_count": 50,
     "metadata": {},
     "output_type": "execute_result"
    }
   ],
   "source": [
    "os.listdir(cwd)"
   ]
  },
  {
   "cell_type": "code",
   "execution_count": 51,
   "metadata": {},
   "outputs": [],
   "source": [
    "data_path = os.chdir(r\"c:\\\\Users\\\\Tokwa\\\\Documents\\\\GitHub\\\\Project-1---Magat-Reservoir-Elevation-prediction\\\\data_elevation\")"
   ]
  },
  {
   "cell_type": "code",
   "execution_count": null,
   "metadata": {},
   "outputs": [],
   "source": [
    "cwd = os.getcwd()"
   ]
  },
  {
   "cell_type": "code",
   "execution_count": null,
   "metadata": {},
   "outputs": [],
   "source": [
    "excel_files = os.listdir(cwd)"
   ]
  },
  {
   "cell_type": "code",
   "execution_count": null,
   "metadata": {},
   "outputs": [],
   "source": [
    "excel_files"
   ]
  },
  {
   "cell_type": "code",
   "execution_count": null,
   "metadata": {},
   "outputs": [],
   "source": [
    "'.xlsx' not in excel_files[1] "
   ]
  },
  {
   "cell_type": "code",
   "execution_count": null,
   "metadata": {},
   "outputs": [],
   "source": [
    "\n",
    "for i in range(0,len(excel_files)):\n",
    "    if '.xlsx' in excel_files[i]:\n",
    "        print(excel_files[i])\n",
    "    "
   ]
  },
  {
   "cell_type": "code",
   "execution_count": null,
   "metadata": {},
   "outputs": [],
   "source": [
    "months = {  \"JANUARY\":\"01\",\n",
    "            \"FEBUARY\":\"02\",\n",
    "            \"MARCH\":\"03\",\n",
    "            \"APRIL\":\"04,\",\n",
    "            \"MAY\":\"05\",\n",
    "            \"JUNE\":\"06\",\n",
    "            \"JULY\":\"07\",\n",
    "            \"AUGUST\":\"08\",\n",
    "            \"SEPTEMBER\":\"09\",\n",
    "            \"OCTOBER\":\"10\",\n",
    "            \"NOVEMBER\":\"11\",\n",
    "            \"DECEMBER\":\"12\"\n",
    "        }"
   ]
  },
  {
   "cell_type": "code",
   "execution_count": null,
   "metadata": {},
   "outputs": [],
   "source": []
  },
  {
   "cell_type": "code",
   "execution_count": null,
   "metadata": {},
   "outputs": [],
   "source": []
  },
  {
   "cell_type": "code",
   "execution_count": null,
   "metadata": {},
   "outputs": [],
   "source": []
  }
 ],
 "metadata": {
  "kernelspec": {
   "display_name": "Python 3.10.6 64-bit",
   "language": "python",
   "name": "python3"
  },
  "language_info": {
   "codemirror_mode": {
    "name": "ipython",
    "version": 3
   },
   "file_extension": ".py",
   "mimetype": "text/x-python",
   "name": "python",
   "nbconvert_exporter": "python",
   "pygments_lexer": "ipython3",
   "version": "3.10.6"
  },
  "orig_nbformat": 4,
  "vscode": {
   "interpreter": {
    "hash": "ac2db1044e3724a763cf97fdcfef53212cbbd09c5767d1024c34d70d6394d21d"
   }
  }
 },
 "nbformat": 4,
 "nbformat_minor": 2
}
