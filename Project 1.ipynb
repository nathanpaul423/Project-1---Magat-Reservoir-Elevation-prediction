{
 "cells": [
  {
   "cell_type": "code",
   "execution_count": 1,
   "metadata": {},
   "outputs": [],
   "source": [
    "import pandas as pd\n",
    "import os\n",
    "import numpy as np\n",
    "import seaborn as sns"
   ]
  },
  {
   "cell_type": "markdown",
   "metadata": {},
   "source": [
    "Directory Manipulation - Start\n"
   ]
  },
  {
   "cell_type": "code",
   "execution_count": 3,
   "metadata": {},
   "outputs": [],
   "source": [
    "def CWD():\n",
    "    CWD=os.getcwd()\n",
    "    return CWD"
   ]
  },
  {
   "cell_type": "code",
   "execution_count": 4,
   "metadata": {},
   "outputs": [
    {
     "data": {
      "text/plain": [
       "'c:\\\\Users\\\\Tokwa\\\\Documents\\\\GitHub\\\\Project-1---Magat-Reservoir-Elevation-prediction\\\\data_elevation'"
      ]
     },
     "execution_count": 4,
     "metadata": {},
     "output_type": "execute_result"
    }
   ],
   "source": [
    "#change current working dir\n",
    "path = r\"c:\\Users\\Tokwa\\Documents\\GitHub\\Project-1---Magat-Reservoir-Elevation-prediction\\data_elevation\"\n",
    "\n",
    "def ChangeCWD(path):\n",
    "    os.chdir(path)\n",
    "    return CWD()\n",
    "    \n",
    "ChangeCWD(path)"
   ]
  },
  {
   "cell_type": "code",
   "execution_count": 9,
   "metadata": {},
   "outputs": [],
   "source": [
    "excel_files = os.listdir(CWD())"
   ]
  },
  {
   "cell_type": "code",
   "execution_count": 10,
   "metadata": {},
   "outputs": [],
   "source": [
    "#list only the files with '.xlsx' extension\n",
    "excelFilesNew = []\n",
    "for i in range(0,len(excel_files)):\n",
    "    if '.xlsx' in excel_files[i]:\n",
    "       excelFilesNew.append(excel_files[i])"
   ]
  },
  {
   "cell_type": "code",
   "execution_count": 13,
   "metadata": {},
   "outputs": [],
   "source": [
    "#backup folder\n",
    "file_backup = \"backData\"\n",
    "newFolder = os.path.join(cwd,file_backup)\n",
    "os.mkdir(newFolder)"
   ]
  },
  {
   "cell_type": "code",
   "execution_count": 4,
   "metadata": {},
   "outputs": [],
   "source": [
    "# create working folder use only once\n",
    "workingFolder = \"workingFolder\"\n",
    "newFolder = os.path.join(cwd,workingFolder)\n",
    "os.mkdir(newFolder)"
   ]
  },
  {
   "cell_type": "code",
   "execution_count": 13,
   "metadata": {},
   "outputs": [],
   "source": [
    "import shutil as sh"
   ]
  },
  {
   "cell_type": "code",
   "execution_count": 14,
   "metadata": {},
   "outputs": [],
   "source": [
    "months = {  \"JANUARY\":\"01\",\n",
    "            \"FEBRUARY\":\"02\",\n",
    "            \"MARCH\":\"03\",\n",
    "            \"APRIL\":\"04\",\n",
    "            \"MAY\":\"05\",\n",
    "            \"JUNE\":\"06\",\n",
    "            \"JULY\":\"07\",\n",
    "            \"AUGUST\":\"08\",\n",
    "            \"SEPTEMBER\":\"09\",\n",
    "            \"OCTOBER\":\"10\",\n",
    "            \"NOVEMBER\":\"11\",\n",
    "            \"DECEMBER\":\"12\"\n",
    "        }"
   ]
  },
  {
   "cell_type": "code",
   "execution_count": 39,
   "metadata": {},
   "outputs": [],
   "source": [
    "#create backup files only used once\n",
    "for i in range(0,len(excelFilesNew)):\n",
    "    oldDest = data_path + \"\\\\\" + excelFilesNew[i]\n",
    "    newDest = newFolder + \"\\\\\" + excelFilesNew[i]\n",
    "    sh.copyfile(oldDest,newDest)"
   ]
  },
  {
   "cell_type": "code",
   "execution_count": 15,
   "metadata": {},
   "outputs": [],
   "source": [
    "#listing split entries\n",
    "excelFilesNew_rename = []\n",
    "for i in range(0,len(excelFilesNew)):\n",
    "    excelFilesNew_rename.append(excelFilesNew[i].split(\" \"))"
   ]
  },
  {
   "cell_type": "code",
   "execution_count": 16,
   "metadata": {},
   "outputs": [
    {
     "name": "stdout",
     "output_type": "stream",
     "text": [
      "[['APRIL', '2022.xlsx'], ['AUGUST', '2022.xlsx'], ['DECEMBER', '2021.xlsx'], ['FEBRUARY', '2022.xlsx'], ['JANUARY', '2022.xlsx'], ['JULY', '2022.xlsx'], ['JUNE', '2022.xlsx'], ['MARCH', '2022.xlsx'], ['MAY', '2022.xlsx'], ['NOVEMBER', '2021.xlsx'], ['OCTOBER', '2021.xlsx'], ['SEPTEMBER', '2021.xlsx'], ['SEPTEMBER', '2022.xlsx']]\n"
     ]
    }
   ],
   "source": [
    "print(excelFilesNew_rename)"
   ]
  },
  {
   "cell_type": "code",
   "execution_count": 19,
   "metadata": {},
   "outputs": [],
   "source": [
    "#replace month with number\n",
    "for i in range(0,len(excelFilesNew_rename)):\n",
    "    excelFilesNew_rename[i][0] = months.get(excelFilesNew_rename[i][0])"
   ]
  },
  {
   "cell_type": "code",
   "execution_count": 20,
   "metadata": {},
   "outputs": [],
   "source": [
    "for i in range(0,len(excelFilesNew_rename)):\n",
    "    excelFilesNew_rename[i] = '-'.join(excelFilesNew_rename[i])"
   ]
  },
  {
   "cell_type": "code",
   "execution_count": 21,
   "metadata": {},
   "outputs": [
    {
     "data": {
      "text/plain": [
       "['04-2022.xlsx',\n",
       " '08-2022.xlsx',\n",
       " '12-2021.xlsx',\n",
       " '02-2022.xlsx',\n",
       " '01-2022.xlsx',\n",
       " '07-2022.xlsx',\n",
       " '06-2022.xlsx',\n",
       " '03-2022.xlsx',\n",
       " '05-2022.xlsx',\n",
       " '11-2021.xlsx',\n",
       " '10-2021.xlsx',\n",
       " '09-2021.xlsx',\n",
       " '09-2022.xlsx']"
      ]
     },
     "execution_count": 21,
     "metadata": {},
     "output_type": "execute_result"
    }
   ],
   "source": [
    "excelFilesNew_rename"
   ]
  },
  {
   "cell_type": "code",
   "execution_count": 22,
   "metadata": {},
   "outputs": [],
   "source": [
    "#copy and rename\n",
    "new_path = 'c:\\\\Users\\\\Tokwa\\\\Documents\\\\GitHub\\\\Project-1---Magat-Reservoir-Elevation-prediction\\\\workingFolder'\n",
    "\n",
    "for i in range(0,len(excelFilesNew_rename)):\n",
    "    oldDest = data_path + \"\\\\\" + excelFilesNew[i]\n",
    "    newDest = new_path + \"\\\\\" + excelFilesNew_rename[i]\n",
    "    os.rename(oldDest,newDest)\n",
    "#not done create script that will copy and rename files"
   ]
  },
  {
   "cell_type": "markdown",
   "metadata": {},
   "source": [
    "**Directory Manipulation - END**"
   ]
  },
  {
   "cell_type": "markdown",
   "metadata": {},
   "source": [
    "**Exploratory Data Analysis - START**"
   ]
  },
  {
   "cell_type": "code",
   "execution_count": 5,
   "metadata": {},
   "outputs": [
    {
     "data": {
      "text/plain": [
       "['01-2022.xlsx',\n",
       " '02-2022.xlsx',\n",
       " '03-2022.xlsx',\n",
       " '04-2022.xlsx',\n",
       " '05-2022.xlsx',\n",
       " '06-2022.xlsx',\n",
       " '07-2022.xlsx',\n",
       " '08-2022.xlsx',\n",
       " '09-2021.xlsx',\n",
       " '09-2022.xlsx',\n",
       " '10-2021.xlsx',\n",
       " '11-2021.xlsx',\n",
       " '12-2021.xlsx']"
      ]
     },
     "execution_count": 5,
     "metadata": {},
     "output_type": "execute_result"
    }
   ],
   "source": [
    "path = 'c:\\\\Users\\\\Tokwa\\\\Documents\\\\GitHub\\\\Project-1---Magat-Reservoir-Elevation-prediction\\\\workingFolder'\n",
    "os.listdir(ChangeCWD(path))\n"
   ]
  },
  {
   "cell_type": "code",
   "execution_count": 6,
   "metadata": {},
   "outputs": [],
   "source": [
    "data_list = os.listdir('c:\\\\Users\\\\Tokwa\\\\Documents\\\\GitHub\\\\Project-1---Magat-Reservoir-Elevation-prediction\\\\workingFolder')"
   ]
  },
  {
   "cell_type": "code",
   "execution_count": 7,
   "metadata": {},
   "outputs": [],
   "source": [
    "df_temp = pd.DataFrame()\n",
    "df = pd.DataFrame()\n",
    "#compile all excel to a single dataframe!\n",
    "for i in data_list:\n",
    "    df_temp = pd.read_excel(CWD()+'//'+ i )\n",
    "    df = pd.concat([df,df_temp])\n",
    "    "
   ]
  },
  {
   "cell_type": "code",
   "execution_count": 8,
   "metadata": {},
   "outputs": [
    {
     "name": "stdout",
     "output_type": "stream",
     "text": [
      "<class 'pandas.core.frame.DataFrame'>\n",
      "Int64Index: 8992 entries, 0 to 743\n",
      "Data columns (total 5 columns):\n",
      " #   Column       Non-Null Count  Dtype  \n",
      "---  ------       --------------  -----  \n",
      " 0   Elevation    8991 non-null   float64\n",
      " 1   Inflow       8968 non-null   object \n",
      " 2   Outflow      8958 non-null   object \n",
      " 3   AvgRainFall  8297 non-null   object \n",
      " 4   Summary      92 non-null     object \n",
      "dtypes: float64(1), object(4)\n",
      "memory usage: 421.5+ KB\n"
     ]
    }
   ],
   "source": [
    "df.info()"
   ]
  },
  {
   "cell_type": "code",
   "execution_count": 14,
   "metadata": {},
   "outputs": [
    {
     "data": {
      "text/plain": [
       "False    6\n",
       "Name: Outflow, dtype: int64"
      ]
     },
     "execution_count": 14,
     "metadata": {},
     "output_type": "execute_result"
    }
   ],
   "source": [
    "df['Inflow'].str.isnumeric().value_counts()\n"
   ]
  },
  {
   "cell_type": "markdown",
   "metadata": {},
   "source": [
    "Meaning there 16 values that are not numeric"
   ]
  },
  {
   "cell_type": "code",
   "execution_count": 12,
   "metadata": {},
   "outputs": [
    {
     "data": {
      "text/plain": [
       "False    6\n",
       "Name: Outflow, dtype: int64"
      ]
     },
     "execution_count": 12,
     "metadata": {},
     "output_type": "execute_result"
    }
   ],
   "source": [
    "df['Outflow'].str.isnumeric().value_counts()"
   ]
  },
  {
   "cell_type": "code",
   "execution_count": 15,
   "metadata": {},
   "outputs": [
    {
     "data": {
      "text/plain": [
       "False    62\n",
       "Name: AvgRainFall, dtype: int64"
      ]
     },
     "execution_count": 15,
     "metadata": {},
     "output_type": "execute_result"
    }
   ],
   "source": [
    "df['AvgRainFall'].str.isnumeric().value_counts()"
   ]
  },
  {
   "cell_type": "code",
   "execution_count": 16,
   "metadata": {},
   "outputs": [
    {
     "data": {
      "text/plain": [
       "25      \n",
       "26      \n",
       "27      \n",
       "28      \n",
       "29      \n",
       "576     \n",
       "577     \n",
       "578     \n",
       "579     \n",
       "580     \n",
       "581     \n",
       "582     \n",
       "583     \n",
       "586     \n",
       "587     \n",
       "231     \n",
       "Name: Inflow, dtype: object"
      ]
     },
     "execution_count": 16,
     "metadata": {},
     "output_type": "execute_result"
    }
   ],
   "source": [
    "df['Inflow'].loc[df['Inflow'].str.isnumeric()==False]\n",
    "#listing the row index of the non-numeric values"
   ]
  },
  {
   "cell_type": "code",
   "execution_count": null,
   "metadata": {},
   "outputs": [],
   "source": [
    "#clean Data!!!!"
   ]
  }
 ],
 "metadata": {
  "kernelspec": {
   "display_name": "Python 3.10.6 64-bit",
   "language": "python",
   "name": "python3"
  },
  "language_info": {
   "codemirror_mode": {
    "name": "ipython",
    "version": 3
   },
   "file_extension": ".py",
   "mimetype": "text/x-python",
   "name": "python",
   "nbconvert_exporter": "python",
   "pygments_lexer": "ipython3",
   "version": "3.10.6"
  },
  "orig_nbformat": 4,
  "vscode": {
   "interpreter": {
    "hash": "ac2db1044e3724a763cf97fdcfef53212cbbd09c5767d1024c34d70d6394d21d"
   }
  }
 },
 "nbformat": 4,
 "nbformat_minor": 2
}
