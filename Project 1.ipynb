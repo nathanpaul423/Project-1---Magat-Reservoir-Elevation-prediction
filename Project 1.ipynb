{
 "cells": [
  {
   "cell_type": "code",
   "execution_count": 1,
   "metadata": {},
   "outputs": [],
   "source": [
    "import pandas as pd\n",
    "import os\n",
    "import numpy as np\n",
    "import seaborn as sns"
   ]
  },
  {
   "cell_type": "code",
   "execution_count": 3,
   "metadata": {},
   "outputs": [],
   "source": [
    "cwd = os.getcwd()\n"
   ]
  },
  {
   "cell_type": "code",
   "execution_count": 4,
   "metadata": {},
   "outputs": [
    {
     "data": {
      "text/plain": [
       "['.git', 'data_elevation', 'Project 1.ipynb', 'README.md']"
      ]
     },
     "execution_count": 4,
     "metadata": {},
     "output_type": "execute_result"
    }
   ],
   "source": [
    "os.listdir(cwd)"
   ]
  },
  {
   "cell_type": "code",
   "execution_count": 9,
   "metadata": {},
   "outputs": [],
   "source": [
    "data_path = r\"c:\\\\Users\\\\Tokwa\\\\Documents\\\\GitHub\\\\Project-1---Magat-Reservoir-Elevation-prediction\\\\data_elevation\"\n",
    "os.chdir(data_path)\n",
    "#Local Directory for datum"
   ]
  },
  {
   "cell_type": "code",
   "execution_count": 36,
   "metadata": {},
   "outputs": [
    {
     "data": {
      "text/plain": [
       "'c:\\\\Users\\\\Tokwa\\\\Documents\\\\GitHub\\\\Project-1---Magat-Reservoir-Elevation-prediction'"
      ]
     },
     "execution_count": 36,
     "metadata": {},
     "output_type": "execute_result"
    }
   ],
   "source": [
    "cwd"
   ]
  },
  {
   "cell_type": "code",
   "execution_count": null,
   "metadata": {},
   "outputs": [],
   "source": [
    "os.rename(\"Data - Elevation\",\"data_elevation\")\n",
    "# used once to change name of folder"
   ]
  },
  {
   "cell_type": "code",
   "execution_count": 33,
   "metadata": {},
   "outputs": [
    {
     "data": {
      "text/plain": [
       "['APRIL 2022.xlsx',\n",
       " 'AUGUST 2022.xlsx',\n",
       " 'DECEMBER 2021.xlsx',\n",
       " 'FEBRUARY 2022.xlsx',\n",
       " 'JANUARY 2022.xlsx',\n",
       " 'JULY 2022.xlsx',\n",
       " 'JUNE 2022.xlsx',\n",
       " 'MARCH 2022.xlsx',\n",
       " 'MAY 2022.xlsx',\n",
       " 'NOVEMBER 2021.xlsx',\n",
       " 'OCTOBER 2021.xlsx',\n",
       " 'SEPTEMBER 2021.xlsm',\n",
       " 'SEPTEMBER 2021.xlsx',\n",
       " 'SEPTEMBER 2022.xlsx',\n",
       " 'Sheet1.doccls',\n",
       " 'UserForm1.frm',\n",
       " 'UserForm1.frx',\n",
       " 'VBA - Script.xlsm']"
      ]
     },
     "execution_count": 33,
     "metadata": {},
     "output_type": "execute_result"
    }
   ],
   "source": [
    "os.listdir(data_path)"
   ]
  },
  {
   "cell_type": "code",
   "execution_count": 8,
   "metadata": {},
   "outputs": [
    {
     "ename": "NameError",
     "evalue": "name 'data_path' is not defined",
     "output_type": "error",
     "traceback": [
      "\u001b[1;31m---------------------------------------------------------------------------\u001b[0m",
      "\u001b[1;31mNameError\u001b[0m                                 Traceback (most recent call last)",
      "\u001b[1;32mc:\\Users\\Tokwa\\Documents\\GitHub\\Project-1---Magat-Reservoir-Elevation-prediction\\Project 1.ipynb Cell 8\u001b[0m in \u001b[0;36m<cell line: 1>\u001b[1;34m()\u001b[0m\n\u001b[1;32m----> <a href='vscode-notebook-cell:/c%3A/Users/Tokwa/Documents/GitHub/Project-1---Magat-Reservoir-Elevation-prediction/Project%201.ipynb#X10sZmlsZQ%3D%3D?line=0'>1</a>\u001b[0m excel_files \u001b[39m=\u001b[39m os\u001b[39m.\u001b[39mlistdir(data_path)\n",
      "\u001b[1;31mNameError\u001b[0m: name 'data_path' is not defined"
     ]
    }
   ],
   "source": [
    "excel_files = os.listdir(data_path)"
   ]
  },
  {
   "cell_type": "code",
   "execution_count": 7,
   "metadata": {},
   "outputs": [
    {
     "ename": "NameError",
     "evalue": "name 'excel_files' is not defined",
     "output_type": "error",
     "traceback": [
      "\u001b[1;31m---------------------------------------------------------------------------\u001b[0m",
      "\u001b[1;31mNameError\u001b[0m                                 Traceback (most recent call last)",
      "\u001b[1;32mc:\\Users\\Tokwa\\Documents\\GitHub\\Project-1---Magat-Reservoir-Elevation-prediction\\Project 1.ipynb Cell 9\u001b[0m in \u001b[0;36m<cell line: 3>\u001b[1;34m()\u001b[0m\n\u001b[0;32m      <a href='vscode-notebook-cell:/c%3A/Users/Tokwa/Documents/GitHub/Project-1---Magat-Reservoir-Elevation-prediction/Project%201.ipynb#X11sZmlsZQ%3D%3D?line=0'>1</a>\u001b[0m \u001b[39m#list only the files with .xlsx extension\u001b[39;00m\n\u001b[0;32m      <a href='vscode-notebook-cell:/c%3A/Users/Tokwa/Documents/GitHub/Project-1---Magat-Reservoir-Elevation-prediction/Project%201.ipynb#X11sZmlsZQ%3D%3D?line=1'>2</a>\u001b[0m excelFilesNew \u001b[39m=\u001b[39m []\n\u001b[1;32m----> <a href='vscode-notebook-cell:/c%3A/Users/Tokwa/Documents/GitHub/Project-1---Magat-Reservoir-Elevation-prediction/Project%201.ipynb#X11sZmlsZQ%3D%3D?line=2'>3</a>\u001b[0m \u001b[39mfor\u001b[39;00m i \u001b[39min\u001b[39;00m \u001b[39mrange\u001b[39m(\u001b[39m0\u001b[39m,\u001b[39mlen\u001b[39m(excel_files)):\n\u001b[0;32m      <a href='vscode-notebook-cell:/c%3A/Users/Tokwa/Documents/GitHub/Project-1---Magat-Reservoir-Elevation-prediction/Project%201.ipynb#X11sZmlsZQ%3D%3D?line=3'>4</a>\u001b[0m     \u001b[39mif\u001b[39;00m \u001b[39m'\u001b[39m\u001b[39m.xlsx\u001b[39m\u001b[39m'\u001b[39m \u001b[39min\u001b[39;00m excel_files[i]:\n\u001b[0;32m      <a href='vscode-notebook-cell:/c%3A/Users/Tokwa/Documents/GitHub/Project-1---Magat-Reservoir-Elevation-prediction/Project%201.ipynb#X11sZmlsZQ%3D%3D?line=4'>5</a>\u001b[0m        excelFilesNew\u001b[39m.\u001b[39mappend(excel_files[i])\n",
      "\u001b[1;31mNameError\u001b[0m: name 'excel_files' is not defined"
     ]
    }
   ],
   "source": [
    "#list only the files with .xlsx extension\n",
    "excelFilesNew = []\n",
    "for i in range(0,len(excel_files)):\n",
    "    if '.xlsx' in excel_files[i]:\n",
    "       excelFilesNew.append(excel_files[i])\n",
    "\n",
    "print(excelFilesNew)"
   ]
  },
  {
   "cell_type": "code",
   "execution_count": 13,
   "metadata": {},
   "outputs": [],
   "source": [
    "#backup folder\n",
    "file_backup = \"backData\"\n",
    "newFolder = os.path.join(cwd,file_backup)\n",
    "os.mkdir(newFolder)"
   ]
  },
  {
   "cell_type": "code",
   "execution_count": 3,
   "metadata": {},
   "outputs": [],
   "source": [
    " cwd = os.getcwd()"
   ]
  },
  {
   "cell_type": "code",
   "execution_count": 4,
   "metadata": {},
   "outputs": [],
   "source": [
    "# create working folder\n",
    "workingFolder = \"workingFolder\"\n",
    "newFolder = os.path.join(cwd,workingFolder)\n",
    "os.mkdir(newFolder)"
   ]
  },
  {
   "cell_type": "code",
   "execution_count": 15,
   "metadata": {},
   "outputs": [],
   "source": [
    "import shutil as sh"
   ]
  },
  {
   "cell_type": "code",
   "execution_count": 39,
   "metadata": {},
   "outputs": [],
   "source": [
    "#create backup files only used once\n",
    "for i in range(0,len(excelFilesNew)):\n",
    "    oldDest = data_path + \"\\\\\" + excelFilesNew[i]\n",
    "    newDest = newFolder + \"\\\\\" + excelFilesNew[i]\n",
    "    sh.copyfile(oldDest,newDest)"
   ]
  },
  {
   "cell_type": "code",
   "execution_count": 5,
   "metadata": {},
   "outputs": [],
   "source": [
    "months = {  \"JANUARY\":\"01\",\n",
    "            \"FEBUARY\":\"02\",\n",
    "            \"MARCH\":\"03\",\n",
    "            \"APRIL\":\"04,\",\n",
    "            \"MAY\":\"05\",\n",
    "            \"JUNE\":\"06\",\n",
    "            \"JULY\":\"07\",\n",
    "            \"AUGUST\":\"08\",\n",
    "            \"SEPTEMBER\":\"09\",\n",
    "            \"OCTOBER\":\"10\",\n",
    "            \"NOVEMBER\":\"11\",\n",
    "            \"DECEMBER\":\"12\"\n",
    "        }"
   ]
  },
  {
   "cell_type": "code",
   "execution_count": 6,
   "metadata": {},
   "outputs": [
    {
     "ename": "NameError",
     "evalue": "name 'excelFilesNew' is not defined",
     "output_type": "error",
     "traceback": [
      "\u001b[1;31m---------------------------------------------------------------------------\u001b[0m",
      "\u001b[1;31mNameError\u001b[0m                                 Traceback (most recent call last)",
      "\u001b[1;32mc:\\Users\\Tokwa\\Documents\\GitHub\\Project-1---Magat-Reservoir-Elevation-prediction\\Project 1.ipynb Cell 16\u001b[0m in \u001b[0;36m<cell line: 3>\u001b[1;34m()\u001b[0m\n\u001b[0;32m      <a href='vscode-notebook-cell:/c%3A/Users/Tokwa/Documents/GitHub/Project-1---Magat-Reservoir-Elevation-prediction/Project%201.ipynb#X26sZmlsZQ%3D%3D?line=0'>1</a>\u001b[0m \u001b[39m#change copy and renames files\u001b[39;00m\n\u001b[0;32m      <a href='vscode-notebook-cell:/c%3A/Users/Tokwa/Documents/GitHub/Project-1---Magat-Reservoir-Elevation-prediction/Project%201.ipynb#X26sZmlsZQ%3D%3D?line=1'>2</a>\u001b[0m excelFilesNew_rename \u001b[39m=\u001b[39m []\n\u001b[1;32m----> <a href='vscode-notebook-cell:/c%3A/Users/Tokwa/Documents/GitHub/Project-1---Magat-Reservoir-Elevation-prediction/Project%201.ipynb#X26sZmlsZQ%3D%3D?line=2'>3</a>\u001b[0m \u001b[39mfor\u001b[39;00m i \u001b[39min\u001b[39;00m \u001b[39mrange\u001b[39m(\u001b[39m0\u001b[39m,\u001b[39mlen\u001b[39m(excelFilesNew)):\n\u001b[0;32m      <a href='vscode-notebook-cell:/c%3A/Users/Tokwa/Documents/GitHub/Project-1---Magat-Reservoir-Elevation-prediction/Project%201.ipynb#X26sZmlsZQ%3D%3D?line=3'>4</a>\u001b[0m     \u001b[39mprint\u001b[39m(excelFilesNew[i]\u001b[39m.\u001b[39msplit(\u001b[39m\"\u001b[39m\u001b[39m.\u001b[39m\u001b[39m\"\u001b[39m))\n",
      "\u001b[1;31mNameError\u001b[0m: name 'excelFilesNew' is not defined"
     ]
    }
   ],
   "source": [
    "#change copy and renames files\n",
    "excelFilesNew_rename = []\n",
    "for i in range(0,len(excelFilesNew)):\n",
    "    print(excelFilesNew[i].split(\".\"))\n",
    "\n",
    "    #not done!!!!!"
   ]
  },
  {
   "cell_type": "code",
   "execution_count": null,
   "metadata": {},
   "outputs": [],
   "source": []
  }
 ],
 "metadata": {
  "kernelspec": {
   "display_name": "Python 3.10.6 64-bit",
   "language": "python",
   "name": "python3"
  },
  "language_info": {
   "codemirror_mode": {
    "name": "ipython",
    "version": 3
   },
   "file_extension": ".py",
   "mimetype": "text/x-python",
   "name": "python",
   "nbconvert_exporter": "python",
   "pygments_lexer": "ipython3",
   "version": "3.10.6"
  },
  "orig_nbformat": 4,
  "vscode": {
   "interpreter": {
    "hash": "ac2db1044e3724a763cf97fdcfef53212cbbd09c5767d1024c34d70d6394d21d"
   }
  }
 },
 "nbformat": 4,
 "nbformat_minor": 2
}
