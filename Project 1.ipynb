{
 "cells": [
  {
   "cell_type": "code",
   "execution_count": 1,
   "metadata": {},
   "outputs": [],
   "source": [
    "import pandas as pd\n",
    "import os\n",
    "import numpy as np\n",
    "import seaborn as sns"
   ]
  },
  {
   "cell_type": "code",
   "execution_count": 3,
   "metadata": {},
   "outputs": [],
   "source": [
    "cwd = os.getcwd()\n"
   ]
  },
  {
   "cell_type": "code",
   "execution_count": 4,
   "metadata": {},
   "outputs": [
    {
     "data": {
      "text/plain": [
       "['.git', 'data_elevation', 'Project 1.ipynb', 'README.md']"
      ]
     },
     "execution_count": 4,
     "metadata": {},
     "output_type": "execute_result"
    }
   ],
   "source": [
    "os.listdir(cwd)"
   ]
  },
  {
   "cell_type": "code",
   "execution_count": 37,
   "metadata": {},
   "outputs": [],
   "source": [
    "data_path = r\"c:\\\\Users\\\\Tokwa\\\\Documents\\\\GitHub\\\\Project-1---Magat-Reservoir-Elevation-prediction\\\\data_elevation\"\n",
    "os.chdir(data_path)\n",
    "#Local Directory for datum"
   ]
  },
  {
   "cell_type": "code",
   "execution_count": 36,
   "metadata": {},
   "outputs": [
    {
     "data": {
      "text/plain": [
       "'c:\\\\Users\\\\Tokwa\\\\Documents\\\\GitHub\\\\Project-1---Magat-Reservoir-Elevation-prediction'"
      ]
     },
     "execution_count": 36,
     "metadata": {},
     "output_type": "execute_result"
    }
   ],
   "source": [
    "cwd"
   ]
  },
  {
   "cell_type": "code",
   "execution_count": null,
   "metadata": {},
   "outputs": [],
   "source": [
    "os.rename(\"Data - Elevation\",\"data_elevation\")\n",
    "# used once to change name of folder"
   ]
  },
  {
   "cell_type": "code",
   "execution_count": 33,
   "metadata": {},
   "outputs": [
    {
     "data": {
      "text/plain": [
       "['APRIL 2022.xlsx',\n",
       " 'AUGUST 2022.xlsx',\n",
       " 'DECEMBER 2021.xlsx',\n",
       " 'FEBRUARY 2022.xlsx',\n",
       " 'JANUARY 2022.xlsx',\n",
       " 'JULY 2022.xlsx',\n",
       " 'JUNE 2022.xlsx',\n",
       " 'MARCH 2022.xlsx',\n",
       " 'MAY 2022.xlsx',\n",
       " 'NOVEMBER 2021.xlsx',\n",
       " 'OCTOBER 2021.xlsx',\n",
       " 'SEPTEMBER 2021.xlsm',\n",
       " 'SEPTEMBER 2021.xlsx',\n",
       " 'SEPTEMBER 2022.xlsx',\n",
       " 'Sheet1.doccls',\n",
       " 'UserForm1.frm',\n",
       " 'UserForm1.frx',\n",
       " 'VBA - Script.xlsm']"
      ]
     },
     "execution_count": 33,
     "metadata": {},
     "output_type": "execute_result"
    }
   ],
   "source": [
    "os.listdir(data_path)"
   ]
  },
  {
   "cell_type": "code",
   "execution_count": 7,
   "metadata": {},
   "outputs": [],
   "source": [
    "excel_files = os.listdir(data_path)"
   ]
  },
  {
   "cell_type": "code",
   "execution_count": null,
   "metadata": {},
   "outputs": [],
   "source": [
    "#list only the files with .xlsx extension\n",
    "excelFilesNew = []\n",
    "for i in range(0,len(excel_files)):\n",
    "    if '.xlsx' in excel_files[i]:\n",
    "       excelFilesNew.append(excel_files[i])\n",
    "\n",
    "print(excelFilesNew)"
   ]
  },
  {
   "cell_type": "code",
   "execution_count": 13,
   "metadata": {},
   "outputs": [],
   "source": [
    "file_backup = \"backData\"\n",
    "\n",
    "newFolder = os.path.join(cwd,file_backup)\n",
    "os.mkdir(newFolder)"
   ]
  },
  {
   "cell_type": "code",
   "execution_count": 15,
   "metadata": {},
   "outputs": [],
   "source": [
    "import shutil as sh"
   ]
  },
  {
   "cell_type": "code",
   "execution_count": 39,
   "metadata": {},
   "outputs": [],
   "source": [
    "#create backup files only used once\n",
    "for i in range(0,len(excelFilesNew)):\n",
    "    oldDest = data_path + \"\\\\\" + excelFilesNew[i]\n",
    "    newDest = newFolder + \"\\\\\" + excelFilesNew[i]\n",
    "    sh.copyfile(oldDest,newDest)"
   ]
  },
  {
   "cell_type": "code",
   "execution_count": null,
   "metadata": {},
   "outputs": [],
   "source": []
  },
  {
   "cell_type": "code",
   "execution_count": null,
   "metadata": {},
   "outputs": [],
   "source": [
    "months = {  \"JANUARY\":\"01\",\n",
    "            \"FEBUARY\":\"02\",\n",
    "            \"MARCH\":\"03\",\n",
    "            \"APRIL\":\"04,\",\n",
    "            \"MAY\":\"05\",\n",
    "            \"JUNE\":\"06\",\n",
    "            \"JULY\":\"07\",\n",
    "            \"AUGUST\":\"08\",\n",
    "            \"SEPTEMBER\":\"09\",\n",
    "            \"OCTOBER\":\"10\",\n",
    "            \"NOVEMBER\":\"11\",\n",
    "            \"DECEMBER\":\"12\"\n",
    "        }"
   ]
  },
  {
   "cell_type": "code",
   "execution_count": null,
   "metadata": {},
   "outputs": [],
   "source": []
  },
  {
   "cell_type": "code",
   "execution_count": null,
   "metadata": {},
   "outputs": [],
   "source": []
  },
  {
   "cell_type": "code",
   "execution_count": null,
   "metadata": {},
   "outputs": [],
   "source": []
  },
  {
   "cell_type": "code",
   "execution_count": null,
   "metadata": {},
   "outputs": [],
   "source": []
  }
 ],
 "metadata": {
  "kernelspec": {
   "display_name": "Python 3.10.6 64-bit",
   "language": "python",
   "name": "python3"
  },
  "language_info": {
   "codemirror_mode": {
    "name": "ipython",
    "version": 3
   },
   "file_extension": ".py",
   "mimetype": "text/x-python",
   "name": "python",
   "nbconvert_exporter": "python",
   "pygments_lexer": "ipython3",
   "version": "3.10.6"
  },
  "orig_nbformat": 4,
  "vscode": {
   "interpreter": {
    "hash": "ac2db1044e3724a763cf97fdcfef53212cbbd09c5767d1024c34d70d6394d21d"
   }
  }
 },
 "nbformat": 4,
 "nbformat_minor": 2
}
