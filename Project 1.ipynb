{
 "cells": [
  {
   "cell_type": "code",
   "execution_count": 1,
   "metadata": {},
   "outputs": [],
   "source": [
    "import pandas as pd\n",
    "import os\n",
    "import numpy as np\n",
    "import seaborn as sns"
   ]
  },
  {
   "cell_type": "code",
   "execution_count": 2,
   "metadata": {},
   "outputs": [
    {
     "data": {
      "text/plain": [
       "'c:\\\\Users\\\\Tokwa\\\\Documents\\\\GitHub\\\\Project-1---Magat-Reservoir-Elevation-prediction'"
      ]
     },
     "execution_count": 2,
     "metadata": {},
     "output_type": "execute_result"
    }
   ],
   "source": [
    "os.getcwd()\n"
   ]
  },
  {
   "cell_type": "code",
   "execution_count": 3,
   "metadata": {},
   "outputs": [],
   "source": [
    "months = {  \"JANUARY\":\"01\",\n",
    "            \"FEBUARY\":\"02\",\n",
    "            \"MARCH\":\"03\",\n",
    "            \"APRIL\":\"04,\",\n",
    "            \"MAY\":\"05\",\n",
    "            \"JUNE\":\"06\",\n",
    "            \"JULY\":\"07\",\n",
    "            \"AUGUST\":\"08\",\n",
    "            \"SEPTEMBER\":\"09\",\n",
    "            \"OCTOBER\":\"10\",\n",
    "            \"NOVEMBER\":\"11\",\n",
    "            \"DECEMBER\":\"12\"\n",
    "        }"
   ]
  },
  {
   "cell_type": "code",
   "execution_count": null,
   "metadata": {},
   "outputs": [],
   "source": []
  }
 ],
 "metadata": {
  "kernelspec": {
   "display_name": "Python 3.10.6 64-bit",
   "language": "python",
   "name": "python3"
  },
  "language_info": {
   "codemirror_mode": {
    "name": "ipython",
    "version": 3
   },
   "file_extension": ".py",
   "mimetype": "text/x-python",
   "name": "python",
   "nbconvert_exporter": "python",
   "pygments_lexer": "ipython3",
   "version": "3.10.6"
  },
  "orig_nbformat": 4,
  "vscode": {
   "interpreter": {
    "hash": "ac2db1044e3724a763cf97fdcfef53212cbbd09c5767d1024c34d70d6394d21d"
   }
  }
 },
 "nbformat": 4,
 "nbformat_minor": 2
}
