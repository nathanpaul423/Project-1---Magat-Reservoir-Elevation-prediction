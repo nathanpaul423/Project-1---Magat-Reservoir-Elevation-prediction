{
 "cells": [
  {
   "cell_type": "code",
   "execution_count": 3,
   "metadata": {},
   "outputs": [],
   "source": [
    "import pandas as pd\n",
    "import os\n",
    "import numpy as np\n",
    "import seaborn as sns"
   ]
  },
  {
   "cell_type": "code",
   "execution_count": 4,
   "metadata": {},
   "outputs": [],
   "source": [
    "#current working directory\n",
    "cwd = os.getcwd()\n"
   ]
  },
  {
   "cell_type": "code",
   "execution_count": 5,
   "metadata": {},
   "outputs": [],
   "source": [
    "#change current working dir\n",
    "data_path = r\"c:\\\\Users\\\\Tokwa\\\\Documents\\\\GitHub\\\\Project-1---Magat-Reservoir-Elevation-prediction\\\\data_elevation\"\n",
    "os.chdir(data_path)\n",
    "#Local Directory for datum"
   ]
  },
  {
   "cell_type": "code",
   "execution_count": null,
   "metadata": {},
   "outputs": [],
   "source": [
    "os.rename(\"Data - Elevation\",\"data_elevation\")\n",
    "# used once to change name of folder"
   ]
  },
  {
   "cell_type": "code",
   "execution_count": 33,
   "metadata": {},
   "outputs": [
    {
     "data": {
      "text/plain": [
       "['APRIL 2022.xlsx',\n",
       " 'AUGUST 2022.xlsx',\n",
       " 'DECEMBER 2021.xlsx',\n",
       " 'FEBRUARY 2022.xlsx',\n",
       " 'JANUARY 2022.xlsx',\n",
       " 'JULY 2022.xlsx',\n",
       " 'JUNE 2022.xlsx',\n",
       " 'MARCH 2022.xlsx',\n",
       " 'MAY 2022.xlsx',\n",
       " 'NOVEMBER 2021.xlsx',\n",
       " 'OCTOBER 2021.xlsx',\n",
       " 'SEPTEMBER 2021.xlsm',\n",
       " 'SEPTEMBER 2021.xlsx',\n",
       " 'SEPTEMBER 2022.xlsx',\n",
       " 'Sheet1.doccls',\n",
       " 'UserForm1.frm',\n",
       " 'UserForm1.frx',\n",
       " 'VBA - Script.xlsm']"
      ]
     },
     "execution_count": 33,
     "metadata": {},
     "output_type": "execute_result"
    }
   ],
   "source": [
    "os.listdir(data_path)"
   ]
  },
  {
   "cell_type": "code",
   "execution_count": 13,
   "metadata": {},
   "outputs": [],
   "source": [
    "excel_files = os.listdir(data_path)"
   ]
  },
  {
   "cell_type": "code",
   "execution_count": 14,
   "metadata": {},
   "outputs": [
    {
     "name": "stdout",
     "output_type": "stream",
     "text": [
      "['APRIL 2022.xlsx', 'AUGUST 2022.xlsx', 'DECEMBER 2021.xlsx', 'FEBRUARY 2022.xlsx', 'JANUARY 2022.xlsx', 'JULY 2022.xlsx', 'JUNE 2022.xlsx', 'MARCH 2022.xlsx', 'MAY 2022.xlsx', 'NOVEMBER 2021.xlsx', 'OCTOBER 2021.xlsx', 'SEPTEMBER 2021.xlsx', 'SEPTEMBER 2022.xlsx']\n"
     ]
    }
   ],
   "source": [
    "#list only the files with .xlsx extension\n",
    "excelFilesNew = []\n",
    "for i in range(0,len(excel_files)):\n",
    "    if '.xlsx' in excel_files[i]:\n",
    "       excelFilesNew.append(excel_files[i])\n",
    "\n",
    "print(excelFilesNew)"
   ]
  },
  {
   "cell_type": "code",
   "execution_count": 13,
   "metadata": {},
   "outputs": [],
   "source": [
    "#backup folder\n",
    "file_backup = \"backData\"\n",
    "newFolder = os.path.join(cwd,file_backup)\n",
    "os.mkdir(newFolder)"
   ]
  },
  {
   "cell_type": "code",
   "execution_count": 3,
   "metadata": {},
   "outputs": [],
   "source": [
    " cwd = os.getcwd()"
   ]
  },
  {
   "cell_type": "code",
   "execution_count": 4,
   "metadata": {},
   "outputs": [],
   "source": [
    "# create working folder\n",
    "workingFolder = \"workingFolder\"\n",
    "newFolder = os.path.join(cwd,workingFolder)\n",
    "os.mkdir(newFolder)"
   ]
  },
  {
   "cell_type": "code",
   "execution_count": 15,
   "metadata": {},
   "outputs": [],
   "source": [
    "import shutil as sh"
   ]
  },
  {
   "cell_type": "code",
   "execution_count": 39,
   "metadata": {},
   "outputs": [],
   "source": [
    "#create backup files only used once\n",
    "for i in range(0,len(excelFilesNew)):\n",
    "    oldDest = data_path + \"\\\\\" + excelFilesNew[i]\n",
    "    newDest = newFolder + \"\\\\\" + excelFilesNew[i]\n",
    "    sh.copyfile(oldDest,newDest)"
   ]
  },
  {
   "cell_type": "code",
   "execution_count": 18,
   "metadata": {},
   "outputs": [],
   "source": [
    "months = {  \"JANUARY\":\"01\",\n",
    "            \"FEBRUARY\":\"02\",\n",
    "            \"MARCH\":\"03\",\n",
    "            \"APRIL\":\"04\",\n",
    "            \"MAY\":\"05\",\n",
    "            \"JUNE\":\"06\",\n",
    "            \"JULY\":\"07\",\n",
    "            \"AUGUST\":\"08\",\n",
    "            \"SEPTEMBER\":\"09\",\n",
    "            \"OCTOBER\":\"10\",\n",
    "            \"NOVEMBER\":\"11\",\n",
    "            \"DECEMBER\":\"12\"\n",
    "        }"
   ]
  },
  {
   "cell_type": "code",
   "execution_count": 15,
   "metadata": {},
   "outputs": [],
   "source": [
    "#listing split entries\n",
    "excelFilesNew_rename = []\n",
    "for i in range(0,len(excelFilesNew)):\n",
    "    excelFilesNew_rename.append(excelFilesNew[i].split(\" \"))"
   ]
  },
  {
   "cell_type": "code",
   "execution_count": 16,
   "metadata": {},
   "outputs": [
    {
     "name": "stdout",
     "output_type": "stream",
     "text": [
      "[['APRIL', '2022.xlsx'], ['AUGUST', '2022.xlsx'], ['DECEMBER', '2021.xlsx'], ['FEBRUARY', '2022.xlsx'], ['JANUARY', '2022.xlsx'], ['JULY', '2022.xlsx'], ['JUNE', '2022.xlsx'], ['MARCH', '2022.xlsx'], ['MAY', '2022.xlsx'], ['NOVEMBER', '2021.xlsx'], ['OCTOBER', '2021.xlsx'], ['SEPTEMBER', '2021.xlsx'], ['SEPTEMBER', '2022.xlsx']]\n"
     ]
    }
   ],
   "source": [
    "print(excelFilesNew_rename)"
   ]
  },
  {
   "cell_type": "code",
   "execution_count": 19,
   "metadata": {},
   "outputs": [],
   "source": [
    "#replace month with number\n",
    "for i in range(0,len(excelFilesNew_rename)):\n",
    "    excelFilesNew_rename[i][0] = months.get(excelFilesNew_rename[i][0])"
   ]
  },
  {
   "cell_type": "code",
   "execution_count": 20,
   "metadata": {},
   "outputs": [],
   "source": [
    "for i in range(0,len(excelFilesNew_rename)):\n",
    "    excelFilesNew_rename[i] = '-'.join(excelFilesNew_rename[i])"
   ]
  },
  {
   "cell_type": "code",
   "execution_count": 21,
   "metadata": {},
   "outputs": [
    {
     "data": {
      "text/plain": [
       "['04-2022.xlsx',\n",
       " '08-2022.xlsx',\n",
       " '12-2021.xlsx',\n",
       " '02-2022.xlsx',\n",
       " '01-2022.xlsx',\n",
       " '07-2022.xlsx',\n",
       " '06-2022.xlsx',\n",
       " '03-2022.xlsx',\n",
       " '05-2022.xlsx',\n",
       " '11-2021.xlsx',\n",
       " '10-2021.xlsx',\n",
       " '09-2021.xlsx',\n",
       " '09-2022.xlsx']"
      ]
     },
     "execution_count": 21,
     "metadata": {},
     "output_type": "execute_result"
    }
   ],
   "source": [
    "excelFilesNew_rename"
   ]
  },
  {
   "cell_type": "code",
   "execution_count": 43,
   "metadata": {},
   "outputs": [],
   "source": [
    "os.chdir('c:\\\\Users\\\\Tokwa\\\\Documents\\\\GitHub\\\\Project-1---Magat-Reservoir-Elevation-prediction')"
   ]
  },
  {
   "cell_type": "code",
   "execution_count": 46,
   "metadata": {},
   "outputs": [
    {
     "data": {
      "text/plain": [
       "['.git',\n",
       " 'backData',\n",
       " 'data_elevation',\n",
       " 'Project 1.ipynb',\n",
       " 'README.md',\n",
       " 'workingFolder']"
      ]
     },
     "execution_count": 46,
     "metadata": {},
     "output_type": "execute_result"
    }
   ],
   "source": [
    "os.listdir('c:\\\\Users\\\\Tokwa\\\\Documents\\\\GitHub\\\\Project-1---Magat-Reservoir-Elevation-prediction')"
   ]
  },
  {
   "cell_type": "code",
   "execution_count": 7,
   "metadata": {},
   "outputs": [],
   "source": [
    "os.chdir('c:\\\\Users\\\\Tokwa\\\\Documents\\\\GitHub\\\\Project-1---Magat-Reservoir-Elevation-prediction\\\\workingFolder')"
   ]
  },
  {
   "cell_type": "code",
   "execution_count": 2,
   "metadata": {},
   "outputs": [],
   "source": [
    "data_path = 'c:\\\\Users\\\\Tokwa\\\\Documents\\\\GitHub\\\\Project-1---Magat-Reservoir-Elevation-prediction\\\\data_elevation'\n"
   ]
  },
  {
   "cell_type": "code",
   "execution_count": 6,
   "metadata": {},
   "outputs": [
    {
     "data": {
      "text/plain": [
       "['APRIL 2022.xlsx',\n",
       " 'AUGUST 2022.xlsx',\n",
       " 'DECEMBER 2021.xlsx',\n",
       " 'FEBRUARY 2022.xlsx',\n",
       " 'JANUARY 2022.xlsx',\n",
       " 'JULY 2022.xlsx',\n",
       " 'JUNE 2022.xlsx',\n",
       " 'MARCH 2022.xlsx',\n",
       " 'MAY 2022.xlsx',\n",
       " 'NOVEMBER 2021.xlsx',\n",
       " 'OCTOBER 2021.xlsx',\n",
       " 'SEPTEMBER 2021.xlsm',\n",
       " 'SEPTEMBER 2021.xlsx',\n",
       " 'SEPTEMBER 2022.xlsx',\n",
       " 'Sheet1.doccls',\n",
       " 'UserForm1.frm',\n",
       " 'UserForm1.frx',\n",
       " 'VBA - Script.xlsm']"
      ]
     },
     "execution_count": 6,
     "metadata": {},
     "output_type": "execute_result"
    }
   ],
   "source": [
    "os.listdir(data_path)"
   ]
  },
  {
   "cell_type": "code",
   "execution_count": 22,
   "metadata": {},
   "outputs": [],
   "source": [
    "#copy and rename\n",
    "new_path = 'c:\\\\Users\\\\Tokwa\\\\Documents\\\\GitHub\\\\Project-1---Magat-Reservoir-Elevation-prediction\\\\workingFolder'\n",
    "\n",
    "for i in range(0,len(excelFilesNew_rename)):\n",
    "    oldDest = data_path + \"\\\\\" + excelFilesNew[i]\n",
    "    newDest = new_path + \"\\\\\" + excelFilesNew_rename[i]\n",
    "    os.rename(oldDest,newDest)\n",
    "#not done create script that will copy and rename files"
   ]
  },
  {
   "cell_type": "code",
   "execution_count": 8,
   "metadata": {},
   "outputs": [
    {
     "data": {
      "text/plain": [
       "[]"
      ]
     },
     "execution_count": 8,
     "metadata": {},
     "output_type": "execute_result"
    }
   ],
   "source": [
    "os.listdir('c:\\\\Users\\\\Tokwa\\\\Documents\\\\GitHub\\\\Project-1---Magat-Reservoir-Elevation-prediction\\\\workingFolder')"
   ]
  },
  {
   "cell_type": "code",
   "execution_count": null,
   "metadata": {},
   "outputs": [],
   "source": []
  }
 ],
 "metadata": {
  "kernelspec": {
   "display_name": "Python 3.10.6 64-bit",
   "language": "python",
   "name": "python3"
  },
  "language_info": {
   "codemirror_mode": {
    "name": "ipython",
    "version": 3
   },
   "file_extension": ".py",
   "mimetype": "text/x-python",
   "name": "python",
   "nbconvert_exporter": "python",
   "pygments_lexer": "ipython3",
   "version": "3.10.6"
  },
  "orig_nbformat": 4,
  "vscode": {
   "interpreter": {
    "hash": "ac2db1044e3724a763cf97fdcfef53212cbbd09c5767d1024c34d70d6394d21d"
   }
  }
 },
 "nbformat": 4,
 "nbformat_minor": 2
}
