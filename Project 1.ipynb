{
 "cells": [
  {
   "cell_type": "code",
   "execution_count": 1,
   "metadata": {},
   "outputs": [],
   "source": [
    "import pandas as pd\n",
    "import os\n",
    "import numpy as np\n",
    "import seaborn as sns"
   ]
  },
  {
   "cell_type": "code",
   "execution_count": 4,
   "metadata": {},
   "outputs": [],
   "source": [
    "#current working directory\n",
    "cwd = os.getcwd()\n"
   ]
  },
  {
   "cell_type": "code",
   "execution_count": 2,
   "metadata": {},
   "outputs": [],
   "source": [
    "#change current working dir\n",
    "data_path = r\"c:\\\\Users\\\\Tokwa\\\\Documents\\\\GitHub\\\\Project-1---Magat-Reservoir-Elevation-prediction\\\\data_elevation\"\n",
    "os.chdir(data_path)\n",
    "#Local Directory for datum"
   ]
  },
  {
   "cell_type": "code",
   "execution_count": null,
   "metadata": {},
   "outputs": [],
   "source": [
    "os.rename(\"Data - Elevation\",\"data_elevation\")\n",
    "# used once to change name of folder"
   ]
  },
  {
   "cell_type": "code",
   "execution_count": 3,
   "metadata": {},
   "outputs": [
    {
     "data": {
      "text/plain": [
       "['SEPTEMBER 2021.xlsm',\n",
       " 'Sheet1.doccls',\n",
       " 'UserForm1.frm',\n",
       " 'UserForm1.frx',\n",
       " 'VBA - Script.xlsm']"
      ]
     },
     "execution_count": 3,
     "metadata": {},
     "output_type": "execute_result"
    }
   ],
   "source": [
    "os.listdir(data_path)"
   ]
  },
  {
   "cell_type": "code",
   "execution_count": 13,
   "metadata": {},
   "outputs": [],
   "source": [
    "excel_files = os.listdir(data_path)"
   ]
  },
  {
   "cell_type": "code",
   "execution_count": 14,
   "metadata": {},
   "outputs": [
    {
     "name": "stdout",
     "output_type": "stream",
     "text": [
      "['APRIL 2022.xlsx', 'AUGUST 2022.xlsx', 'DECEMBER 2021.xlsx', 'FEBRUARY 2022.xlsx', 'JANUARY 2022.xlsx', 'JULY 2022.xlsx', 'JUNE 2022.xlsx', 'MARCH 2022.xlsx', 'MAY 2022.xlsx', 'NOVEMBER 2021.xlsx', 'OCTOBER 2021.xlsx', 'SEPTEMBER 2021.xlsx', 'SEPTEMBER 2022.xlsx']\n"
     ]
    }
   ],
   "source": [
    "#list only the files with .xlsx extension\n",
    "excelFilesNew = []\n",
    "for i in range(0,len(excel_files)):\n",
    "    if '.xlsx' in excel_files[i]:\n",
    "       excelFilesNew.append(excel_files[i])\n",
    "\n",
    "print(excelFilesNew)"
   ]
  },
  {
   "cell_type": "code",
   "execution_count": 13,
   "metadata": {},
   "outputs": [],
   "source": [
    "#backup folder\n",
    "file_backup = \"backData\"\n",
    "newFolder = os.path.join(cwd,file_backup)\n",
    "os.mkdir(newFolder)"
   ]
  },
  {
   "cell_type": "code",
   "execution_count": 3,
   "metadata": {},
   "outputs": [],
   "source": [
    " cwd = os.getcwd()"
   ]
  },
  {
   "cell_type": "code",
   "execution_count": 4,
   "metadata": {},
   "outputs": [],
   "source": [
    "# create working folder\n",
    "workingFolder = \"workingFolder\"\n",
    "newFolder = os.path.join(cwd,workingFolder)\n",
    "os.mkdir(newFolder)"
   ]
  },
  {
   "cell_type": "code",
   "execution_count": 15,
   "metadata": {},
   "outputs": [],
   "source": [
    "import shutil as sh"
   ]
  },
  {
   "cell_type": "code",
   "execution_count": 39,
   "metadata": {},
   "outputs": [],
   "source": [
    "#create backup files only used once\n",
    "for i in range(0,len(excelFilesNew)):\n",
    "    oldDest = data_path + \"\\\\\" + excelFilesNew[i]\n",
    "    newDest = newFolder + \"\\\\\" + excelFilesNew[i]\n",
    "    sh.copyfile(oldDest,newDest)"
   ]
  },
  {
   "cell_type": "code",
   "execution_count": 18,
   "metadata": {},
   "outputs": [],
   "source": [
    "months = {  \"JANUARY\":\"01\",\n",
    "            \"FEBRUARY\":\"02\",\n",
    "            \"MARCH\":\"03\",\n",
    "            \"APRIL\":\"04\",\n",
    "            \"MAY\":\"05\",\n",
    "            \"JUNE\":\"06\",\n",
    "            \"JULY\":\"07\",\n",
    "            \"AUGUST\":\"08\",\n",
    "            \"SEPTEMBER\":\"09\",\n",
    "            \"OCTOBER\":\"10\",\n",
    "            \"NOVEMBER\":\"11\",\n",
    "            \"DECEMBER\":\"12\"\n",
    "        }"
   ]
  },
  {
   "cell_type": "code",
   "execution_count": 15,
   "metadata": {},
   "outputs": [],
   "source": [
    "#listing split entries\n",
    "excelFilesNew_rename = []\n",
    "for i in range(0,len(excelFilesNew)):\n",
    "    excelFilesNew_rename.append(excelFilesNew[i].split(\" \"))"
   ]
  },
  {
   "cell_type": "code",
   "execution_count": 16,
   "metadata": {},
   "outputs": [
    {
     "name": "stdout",
     "output_type": "stream",
     "text": [
      "[['APRIL', '2022.xlsx'], ['AUGUST', '2022.xlsx'], ['DECEMBER', '2021.xlsx'], ['FEBRUARY', '2022.xlsx'], ['JANUARY', '2022.xlsx'], ['JULY', '2022.xlsx'], ['JUNE', '2022.xlsx'], ['MARCH', '2022.xlsx'], ['MAY', '2022.xlsx'], ['NOVEMBER', '2021.xlsx'], ['OCTOBER', '2021.xlsx'], ['SEPTEMBER', '2021.xlsx'], ['SEPTEMBER', '2022.xlsx']]\n"
     ]
    }
   ],
   "source": [
    "print(excelFilesNew_rename)"
   ]
  },
  {
   "cell_type": "code",
   "execution_count": 19,
   "metadata": {},
   "outputs": [],
   "source": [
    "#replace month with number\n",
    "for i in range(0,len(excelFilesNew_rename)):\n",
    "    excelFilesNew_rename[i][0] = months.get(excelFilesNew_rename[i][0])"
   ]
  },
  {
   "cell_type": "code",
   "execution_count": 20,
   "metadata": {},
   "outputs": [],
   "source": [
    "for i in range(0,len(excelFilesNew_rename)):\n",
    "    excelFilesNew_rename[i] = '-'.join(excelFilesNew_rename[i])"
   ]
  },
  {
   "cell_type": "code",
   "execution_count": 21,
   "metadata": {},
   "outputs": [
    {
     "data": {
      "text/plain": [
       "['04-2022.xlsx',\n",
       " '08-2022.xlsx',\n",
       " '12-2021.xlsx',\n",
       " '02-2022.xlsx',\n",
       " '01-2022.xlsx',\n",
       " '07-2022.xlsx',\n",
       " '06-2022.xlsx',\n",
       " '03-2022.xlsx',\n",
       " '05-2022.xlsx',\n",
       " '11-2021.xlsx',\n",
       " '10-2021.xlsx',\n",
       " '09-2021.xlsx',\n",
       " '09-2022.xlsx']"
      ]
     },
     "execution_count": 21,
     "metadata": {},
     "output_type": "execute_result"
    }
   ],
   "source": [
    "excelFilesNew_rename"
   ]
  },
  {
   "cell_type": "code",
   "execution_count": 43,
   "metadata": {},
   "outputs": [],
   "source": [
    "os.chdir('c:\\\\Users\\\\Tokwa\\\\Documents\\\\GitHub\\\\Project-1---Magat-Reservoir-Elevation-prediction')"
   ]
  },
  {
   "cell_type": "code",
   "execution_count": 4,
   "metadata": {},
   "outputs": [
    {
     "data": {
      "text/plain": [
       "['.git',\n",
       " 'backData',\n",
       " 'data_elevation',\n",
       " 'Project 1.ipynb',\n",
       " 'README.md',\n",
       " 'workingFolder']"
      ]
     },
     "execution_count": 4,
     "metadata": {},
     "output_type": "execute_result"
    }
   ],
   "source": [
    "os.listdir('c:\\\\Users\\\\Tokwa\\\\Documents\\\\GitHub\\\\Project-1---Magat-Reservoir-Elevation-prediction')"
   ]
  },
  {
   "cell_type": "code",
   "execution_count": 7,
   "metadata": {},
   "outputs": [],
   "source": [
    "os.chdir('c:\\\\Users\\\\Tokwa\\\\Documents\\\\GitHub\\\\Project-1---Magat-Reservoir-Elevation-prediction\\\\workingFolder')"
   ]
  },
  {
   "cell_type": "code",
   "execution_count": 2,
   "metadata": {},
   "outputs": [],
   "source": [
    "data_path = 'c:\\\\Users\\\\Tokwa\\\\Documents\\\\GitHub\\\\Project-1---Magat-Reservoir-Elevation-prediction\\\\data_elevation'\n"
   ]
  },
  {
   "cell_type": "code",
   "execution_count": 5,
   "metadata": {},
   "outputs": [
    {
     "data": {
      "text/plain": [
       "['SEPTEMBER 2021.xlsm',\n",
       " 'Sheet1.doccls',\n",
       " 'UserForm1.frm',\n",
       " 'UserForm1.frx',\n",
       " 'VBA - Script.xlsm']"
      ]
     },
     "execution_count": 5,
     "metadata": {},
     "output_type": "execute_result"
    }
   ],
   "source": [
    "os.listdir(data_path)"
   ]
  },
  {
   "cell_type": "code",
   "execution_count": 22,
   "metadata": {},
   "outputs": [],
   "source": [
    "#copy and rename\n",
    "new_path = 'c:\\\\Users\\\\Tokwa\\\\Documents\\\\GitHub\\\\Project-1---Magat-Reservoir-Elevation-prediction\\\\workingFolder'\n",
    "\n",
    "for i in range(0,len(excelFilesNew_rename)):\n",
    "    oldDest = data_path + \"\\\\\" + excelFilesNew[i]\n",
    "    newDest = new_path + \"\\\\\" + excelFilesNew_rename[i]\n",
    "    os.rename(oldDest,newDest)\n",
    "#not done create script that will copy and rename files"
   ]
  },
  {
   "cell_type": "code",
   "execution_count": 8,
   "metadata": {},
   "outputs": [
    {
     "data": {
      "text/plain": [
       "['01-2022.xlsx',\n",
       " '02-2022.xlsx',\n",
       " '03-2022.xlsx',\n",
       " '04-2022.xlsx',\n",
       " '05-2022.xlsx',\n",
       " '06-2022.xlsx',\n",
       " '07-2022.xlsx',\n",
       " '08-2022.xlsx',\n",
       " '09-2021.xlsx',\n",
       " '09-2022.xlsx',\n",
       " '10-2021.xlsx',\n",
       " '11-2021.xlsx',\n",
       " '12-2021.xlsx']"
      ]
     },
     "execution_count": 8,
     "metadata": {},
     "output_type": "execute_result"
    }
   ],
   "source": [
    "os.listdir('c:\\\\Users\\\\Tokwa\\\\Documents\\\\GitHub\\\\Project-1---Magat-Reservoir-Elevation-prediction\\\\workingFolder')"
   ]
  },
  {
   "cell_type": "code",
   "execution_count": null,
   "metadata": {},
   "outputs": [],
   "source": [
    "#please Clean Code"
   ]
  },
  {
   "cell_type": "code",
   "execution_count": 9,
   "metadata": {},
   "outputs": [],
   "source": [
    "df1 = pd.read_excel('c:\\\\Users\\\\Tokwa\\\\Documents\\\\GitHub\\\\Project-1---Magat-Reservoir-Elevation-prediction\\\\workingFolder\\\\01-2022.xlsx')"
   ]
  },
  {
   "cell_type": "code",
   "execution_count": 10,
   "metadata": {},
   "outputs": [
    {
     "name": "stdout",
     "output_type": "stream",
     "text": [
      "<class 'pandas.core.frame.DataFrame'>\n",
      "RangeIndex: 744 entries, 0 to 743\n",
      "Data columns (total 4 columns):\n",
      " #   Column       Non-Null Count  Dtype  \n",
      "---  ------       --------------  -----  \n",
      " 0   Elevation    744 non-null    float64\n",
      " 1   Inflow       744 non-null    float64\n",
      " 2   Outflow      744 non-null    float64\n",
      " 3   AvgRainFall  720 non-null    float64\n",
      "dtypes: float64(4)\n",
      "memory usage: 23.4 KB\n"
     ]
    }
   ],
   "source": [
    "df1.info()"
   ]
  },
  {
   "cell_type": "code",
   "execution_count": 14,
   "metadata": {},
   "outputs": [
    {
     "data": {
      "text/html": [
       "<div>\n",
       "<style scoped>\n",
       "    .dataframe tbody tr th:only-of-type {\n",
       "        vertical-align: middle;\n",
       "    }\n",
       "\n",
       "    .dataframe tbody tr th {\n",
       "        vertical-align: top;\n",
       "    }\n",
       "\n",
       "    .dataframe thead th {\n",
       "        text-align: right;\n",
       "    }\n",
       "</style>\n",
       "<table border=\"1\" class=\"dataframe\">\n",
       "  <thead>\n",
       "    <tr style=\"text-align: right;\">\n",
       "      <th></th>\n",
       "      <th>Elevation</th>\n",
       "      <th>Inflow</th>\n",
       "      <th>Outflow</th>\n",
       "      <th>AvgRainFall</th>\n",
       "    </tr>\n",
       "  </thead>\n",
       "  <tbody>\n",
       "    <tr>\n",
       "      <th>count</th>\n",
       "      <td>744.000000</td>\n",
       "      <td>744.000000</td>\n",
       "      <td>744.000000</td>\n",
       "      <td>720.00000</td>\n",
       "    </tr>\n",
       "    <tr>\n",
       "      <th>mean</th>\n",
       "      <td>182.757258</td>\n",
       "      <td>91.146257</td>\n",
       "      <td>152.595461</td>\n",
       "      <td>0.03500</td>\n",
       "    </tr>\n",
       "    <tr>\n",
       "      <th>std</th>\n",
       "      <td>2.558365</td>\n",
       "      <td>51.986050</td>\n",
       "      <td>61.121768</td>\n",
       "      <td>0.25875</td>\n",
       "    </tr>\n",
       "    <tr>\n",
       "      <th>min</th>\n",
       "      <td>178.590000</td>\n",
       "      <td>-114.986458</td>\n",
       "      <td>42.111111</td>\n",
       "      <td>0.00000</td>\n",
       "    </tr>\n",
       "    <tr>\n",
       "      <th>25%</th>\n",
       "      <td>180.167500</td>\n",
       "      <td>54.835719</td>\n",
       "      <td>114.277778</td>\n",
       "      <td>0.00000</td>\n",
       "    </tr>\n",
       "    <tr>\n",
       "      <th>50%</th>\n",
       "      <td>183.280000</td>\n",
       "      <td>85.532800</td>\n",
       "      <td>139.388889</td>\n",
       "      <td>0.00000</td>\n",
       "    </tr>\n",
       "    <tr>\n",
       "      <th>75%</th>\n",
       "      <td>185.182500</td>\n",
       "      <td>122.041667</td>\n",
       "      <td>168.486111</td>\n",
       "      <td>0.00000</td>\n",
       "    </tr>\n",
       "    <tr>\n",
       "      <th>max</th>\n",
       "      <td>185.890000</td>\n",
       "      <td>289.475756</td>\n",
       "      <td>433.111111</td>\n",
       "      <td>5.10000</td>\n",
       "    </tr>\n",
       "  </tbody>\n",
       "</table>\n",
       "</div>"
      ],
      "text/plain": [
       "        Elevation      Inflow     Outflow  AvgRainFall\n",
       "count  744.000000  744.000000  744.000000    720.00000\n",
       "mean   182.757258   91.146257  152.595461      0.03500\n",
       "std      2.558365   51.986050   61.121768      0.25875\n",
       "min    178.590000 -114.986458   42.111111      0.00000\n",
       "25%    180.167500   54.835719  114.277778      0.00000\n",
       "50%    183.280000   85.532800  139.388889      0.00000\n",
       "75%    185.182500  122.041667  168.486111      0.00000\n",
       "max    185.890000  289.475756  433.111111      5.10000"
      ]
     },
     "execution_count": 14,
     "metadata": {},
     "output_type": "execute_result"
    }
   ],
   "source": [
    "df1.describe()"
   ]
  },
  {
   "cell_type": "code",
   "execution_count": 15,
   "metadata": {},
   "outputs": [],
   "source": [
    "df2 = pd.read_excel('c:\\\\Users\\\\Tokwa\\\\Documents\\\\GitHub\\\\Project-1---Magat-Reservoir-Elevation-prediction\\\\workingFolder\\\\02-2022.xlsx')"
   ]
  },
  {
   "cell_type": "code",
   "execution_count": 18,
   "metadata": {},
   "outputs": [],
   "source": [
    "df = pd.concat([df1,df2])"
   ]
  },
  {
   "cell_type": "code",
   "execution_count": 21,
   "metadata": {},
   "outputs": [
    {
     "data": {
      "text/html": [
       "<div>\n",
       "<style scoped>\n",
       "    .dataframe tbody tr th:only-of-type {\n",
       "        vertical-align: middle;\n",
       "    }\n",
       "\n",
       "    .dataframe tbody tr th {\n",
       "        vertical-align: top;\n",
       "    }\n",
       "\n",
       "    .dataframe thead th {\n",
       "        text-align: right;\n",
       "    }\n",
       "</style>\n",
       "<table border=\"1\" class=\"dataframe\">\n",
       "  <thead>\n",
       "    <tr style=\"text-align: right;\">\n",
       "      <th></th>\n",
       "      <th>Elevation</th>\n",
       "      <th>Inflow</th>\n",
       "      <th>Outflow</th>\n",
       "      <th>AvgRainFall</th>\n",
       "    </tr>\n",
       "  </thead>\n",
       "  <tbody>\n",
       "    <tr>\n",
       "      <th>Elevation</th>\n",
       "      <td>1.000000</td>\n",
       "      <td>-0.070467</td>\n",
       "      <td>0.040011</td>\n",
       "      <td>-0.060400</td>\n",
       "    </tr>\n",
       "    <tr>\n",
       "      <th>Inflow</th>\n",
       "      <td>-0.070467</td>\n",
       "      <td>1.000000</td>\n",
       "      <td>-0.032588</td>\n",
       "      <td>-0.028375</td>\n",
       "    </tr>\n",
       "    <tr>\n",
       "      <th>Outflow</th>\n",
       "      <td>0.040011</td>\n",
       "      <td>-0.032588</td>\n",
       "      <td>1.000000</td>\n",
       "      <td>-0.015781</td>\n",
       "    </tr>\n",
       "    <tr>\n",
       "      <th>AvgRainFall</th>\n",
       "      <td>-0.060400</td>\n",
       "      <td>-0.028375</td>\n",
       "      <td>-0.015781</td>\n",
       "      <td>1.000000</td>\n",
       "    </tr>\n",
       "  </tbody>\n",
       "</table>\n",
       "</div>"
      ],
      "text/plain": [
       "             Elevation    Inflow   Outflow  AvgRainFall\n",
       "Elevation     1.000000 -0.070467  0.040011    -0.060400\n",
       "Inflow       -0.070467  1.000000 -0.032588    -0.028375\n",
       "Outflow       0.040011 -0.032588  1.000000    -0.015781\n",
       "AvgRainFall  -0.060400 -0.028375 -0.015781     1.000000"
      ]
     },
     "execution_count": 21,
     "metadata": {},
     "output_type": "execute_result"
    }
   ],
   "source": [
    "df.corr()"
   ]
  },
  {
   "cell_type": "code",
   "execution_count": 22,
   "metadata": {},
   "outputs": [
    {
     "data": {
      "text/plain": [
       "(1416, 4)"
      ]
     },
     "execution_count": 22,
     "metadata": {},
     "output_type": "execute_result"
    }
   ],
   "source": [
    "df.shape"
   ]
  },
  {
   "cell_type": "code",
   "execution_count": 27,
   "metadata": {},
   "outputs": [
    {
     "data": {
      "text/plain": [
       "Elevation    1.000000\n",
       "Inflow      -0.070467\n",
       "Outflow      0.040011\n",
       "Name: Elevation, dtype: float64"
      ]
     },
     "execution_count": 27,
     "metadata": {},
     "output_type": "execute_result"
    }
   ],
   "source": [
    "df.corr()['Elevation'][:-1]"
   ]
  },
  {
   "cell_type": "code",
   "execution_count": 29,
   "metadata": {},
   "outputs": [
    {
     "data": {
      "text/plain": [
       "<AxesSubplot:xlabel='Elevation', ylabel='AvgRainFall'>"
      ]
     },
     "execution_count": 29,
     "metadata": {},
     "output_type": "execute_result"
    },
    {
     "data": {
      "image/png": "[encoded data removed]",
      "text/plain": [
       "<Figure size 640x480 with 1 Axes>"
      ]
     },
     "metadata": {},
     "output_type": "display_data"
    }
   ],
   "source": [
    "sns.scatterplot(x='Elevation',y='AvgRainFall',data=df)"
   ]
  },
  {
   "cell_type": "code",
   "execution_count": 30,
   "metadata": {},
   "outputs": [
    {
     "data": {
      "text/plain": [
       "<AxesSubplot:xlabel='Elevation', ylabel='Outflow'>"
      ]
     },
     "execution_count": 30,
     "metadata": {},
     "output_type": "execute_result"
    },
    {
     "data": {
      "image/png": "[encoded data removed]",
      "text/plain": [
       "<Figure size 640x480 with 1 Axes>"
      ]
     },
     "metadata": {},
     "output_type": "display_data"
    }
   ],
   "source": [
    "sns.scatterplot(x='Elevation',y='Outflow',data=df)"
   ]
  },
  {
   "cell_type": "code",
   "execution_count": 32,
   "metadata": {},
   "outputs": [
    {
     "data": {
      "text/plain": [
       "0    165.277778\n",
       "Name: Inflow, dtype: float64"
      ]
     },
     "execution_count": 32,
     "metadata": {},
     "output_type": "execute_result"
    }
   ],
   "source": [
    "df['Inflow'].mode()"
   ]
  },
  {
   "cell_type": "code",
   "execution_count": 33,
   "metadata": {},
   "outputs": [
    {
     "data": {
      "text/plain": [
       "94.22726473634732"
      ]
     },
     "execution_count": 33,
     "metadata": {},
     "output_type": "execute_result"
    }
   ],
   "source": [
    "df['Inflow'].mean()"
   ]
  },
  {
   "cell_type": "code",
   "execution_count": 35,
   "metadata": {},
   "outputs": [
    {
     "data": {
      "text/plain": [
       "179.17916666666667"
      ]
     },
     "execution_count": 35,
     "metadata": {},
     "output_type": "execute_result"
    }
   ],
   "source": [
    "df['Elevation'].mean()"
   ]
  },
  {
   "cell_type": "code",
   "execution_count": 38,
   "metadata": {},
   "outputs": [
    {
     "data": {
      "text/plain": [
       "0    185.87\n",
       "Name: Elevation, dtype: float64"
      ]
     },
     "execution_count": 38,
     "metadata": {},
     "output_type": "execute_result"
    }
   ],
   "source": [
    "df['Elevation'].mode()"
   ]
  },
  {
   "cell_type": "code",
   "execution_count": 39,
   "metadata": {},
   "outputs": [
    {
     "data": {
      "text/plain": [
       "178.97"
      ]
     },
     "execution_count": 39,
     "metadata": {},
     "output_type": "execute_result"
    }
   ],
   "source": [
    "df['Elevation'].median()"
   ]
  },
  {
   "cell_type": "code",
   "execution_count": 40,
   "metadata": {},
   "outputs": [],
   "source": [
    "#data seem to not follow what expected correlation"
   ]
  },
  {
   "cell_type": "code",
   "execution_count": 42,
   "metadata": {},
   "outputs": [],
   "source": [
    "#it is expected that:\n",
    "#elevation and inflow has a positive correlation\n",
    "#elevation and outflow has a negative correlation\n",
    "#elevation and avgrainfall has a positive correlation \n",
    "# but non follow expectation\n"
   ]
  },
  {
   "cell_type": "code",
   "execution_count": null,
   "metadata": {},
   "outputs": [],
   "source": []
  }
 ],
 "metadata": {
  "kernelspec": {
   "display_name": "Python 3.10.6 64-bit",
   "language": "python",
   "name": "python3"
  },
  "language_info": {
   "codemirror_mode": {
    "name": "ipython",
    "version": 3
   },
   "file_extension": ".py",
   "mimetype": "text/x-python",
   "name": "python",
   "nbconvert_exporter": "python",
   "pygments_lexer": "ipython3",
   "version": "3.10.6"
  },
  "orig_nbformat": 4,
  "vscode": {
   "interpreter": {
    "hash": "ac2db1044e3724a763cf97fdcfef53212cbbd09c5767d1024c34d70d6394d21d"
   }
  }
 },
 "nbformat": 4,
 "nbformat_minor": 2
}
